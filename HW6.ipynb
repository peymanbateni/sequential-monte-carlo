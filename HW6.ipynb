{
 "cells": [
  {
   "cell_type": "code",
   "execution_count": 1,
   "metadata": {},
   "outputs": [],
   "source": [
    "import pickle\n",
    "import matplotlib.pyplot as plt\n",
    "import numpy as np\n",
    "import torch"
   ]
  },
  {
   "cell_type": "code",
   "execution_count": 2,
   "metadata": {},
   "outputs": [
    {
     "name": "stdout",
     "output_type": "stream",
     "text": [
      "Marginal Expectation of Until-Success 84.0 with variance 0.0 at 1 samples with logZ of 0\n",
      "Marginal Expectation of Until-Success 82.8 with variance 7295.96 at 10 samples with logZ of 0\n",
      "Marginal Expectation of Until-Success 110.54 with variance 13510.648 at 100 samples with logZ of 0\n",
      "Marginal Expectation of Until-Success 97.486 with variance 10680.372 at 1000 samples with logZ of 0\n",
      "Marginal Expectation of Until-Success 100.6141 with variance 10071.233 at 10000 samples with logZ of 0\n",
      "Marginal Expectation of Until-Success 98.67567 with variance 9777.639 at 100000 samples with logZ of 0\n"
     ]
    },
    {
     "data": {
      "text/plain": [
       "<Figure size 432x288 with 0 Axes>"
      ]
     },
     "metadata": {},
     "output_type": "display_data"
    }
   ],
   "source": [
    "for i, n_sample in enumerate([1, 10, 100, 1000, 10000, 100000]):\n",
    "    with open(\"Daphne_program1_n_particles_\" + str(n_sample) + \"_values.pickle\", \"rb+\") as f:\n",
    "        values = pickle.load(f).float()\n",
    "        \n",
    "    with open('Daphne_program1_n_particles_100000logZ_values.pickle', 'rb+') as f:\n",
    "        logZs = pickle.load(f)\n",
    "    \n",
    "    # program 1\n",
    "    test_1_samples = torch.FloatTensor(values).numpy()\n",
    "\n",
    "    plt.hist(test_1_samples, density=True, bins=30)\n",
    "    plt.ylabel('Probability')\n",
    "    plt.xlabel('Until-Success steps')\n",
    "    plt.title('Program 1 - Until-Success Histogram')\n",
    "    plt.savefig(\"Program 1 - Until-Success Histogram \" + str(n_sample) + \".pdf\", bbox_inches='tight')\n",
    "    plt.clf()\n",
    "\n",
    "    print(\"Marginal Expectation of Until-Success\", test_1_samples.mean(), \"with variance\", \n",
    "          test_1_samples.var(), \"at\", n_sample, \"samples with logZ of\", logZs[i])"
   ]
  },
  {
   "cell_type": "code",
   "execution_count": 3,
   "metadata": {},
   "outputs": [
    {
     "name": "stdout",
     "output_type": "stream",
     "text": [
      "Marginal Expectation of Mu 3.4706337 with variance 0.0 at 1 samples with logZ of tensor(-15.3033)\n",
      "Marginal Expectation of Mu 5.340892 with variance 0.09541323 at 10 samples with logZ of tensor(-8.8379)\n",
      "Marginal Expectation of Mu 6.4447007 with variance 0.13377808 at 100 samples with logZ of tensor(-8.6537)\n",
      "Marginal Expectation of Mu 7.5325327 with variance 0.6287113 at 1000 samples with logZ of tensor(-7.9736)\n",
      "Marginal Expectation of Mu 7.4208665 with variance 1.07105 at 10000 samples with logZ of tensor(-8.2124)\n",
      "Marginal Expectation of Mu 7.26856 with variance 0.84368956 at 100000 samples with logZ of tensor(-8.2110)\n"
     ]
    },
    {
     "data": {
      "text/plain": [
       "<Figure size 432x288 with 0 Axes>"
      ]
     },
     "metadata": {},
     "output_type": "display_data"
    }
   ],
   "source": [
    "for i, n_sample in enumerate([1, 10, 100, 1000, 10000, 100000]):\n",
    "    with open(\"Daphne_program2_n_particles_\" + str(n_sample) + \"_values.pickle\", \"rb+\") as f:\n",
    "        values = pickle.load(f).float()\n",
    "        \n",
    "    with open('Daphne_program2_n_particles_100000logZ_values.pickle', 'rb+') as f:\n",
    "        logZs = pickle.load(f)\n",
    "\n",
    "    # program 2\n",
    "    test_2_samples = torch.FloatTensor(values).numpy()\n",
    "\n",
    "    # slope\n",
    "    plt.hist(test_2_samples, density=True, bins=30)\n",
    "    plt.ylabel('Probability')\n",
    "    plt.xlabel('Mu')\n",
    "    plt.title('Program 2 - Mu Histogram')\n",
    "    plt.savefig(\"Program 2 - Mu Histogram\" + str(n_sample) + \".pdf\", bbox_inches='tight')\n",
    "    plt.clf()\n",
    "\n",
    "    print(\"Marginal Expectation of Mu\", test_2_samples.mean(), \"with variance\", test_2_samples.var(),\n",
    "          \"at\", n_sample, \"samples with logZ of\", logZs[i])"
   ]
  },
  {
   "cell_type": "code",
   "execution_count": 4,
   "metadata": {},
   "outputs": [
    {
     "name": "stdout",
     "output_type": "stream",
     "text": [
      "torch.Size([1, 17])\n",
      "[tensor(-55.0280), tensor(-46.4798), tensor(-44.4239), tensor(-44.4256), tensor(-44.4434), tensor(-44.4227)]\n",
      "Marginal Expectation of State 1 2.0 with variance 0.0 1 samples with logZ of tensor(-55.0280)\n",
      "Marginal Expectation of State 2 2.0 with variance 0.0 1 samples with logZ of tensor(-55.0280)\n",
      "Marginal Expectation of State 3 2.0 with variance 0.0 1 samples with logZ of tensor(-55.0280)\n",
      "Marginal Expectation of State 4 2.0 with variance 0.0 1 samples with logZ of tensor(-55.0280)\n",
      "Marginal Expectation of State 5 2.0 with variance 0.0 1 samples with logZ of tensor(-55.0280)\n",
      "Marginal Expectation of State 6 2.0 with variance 0.0 1 samples with logZ of tensor(-55.0280)\n",
      "Marginal Expectation of State 7 2.0 with variance 0.0 1 samples with logZ of tensor(-55.0280)\n",
      "Marginal Expectation of State 8 2.0 with variance 0.0 1 samples with logZ of tensor(-55.0280)\n",
      "Marginal Expectation of State 9 2.0 with variance 0.0 1 samples with logZ of tensor(-55.0280)\n",
      "Marginal Expectation of State 10 2.0 with variance 0.0 1 samples with logZ of tensor(-55.0280)\n",
      "Marginal Expectation of State 11 1.0 with variance 0.0 1 samples with logZ of tensor(-55.0280)\n",
      "Marginal Expectation of State 12 0.0 with variance 0.0 1 samples with logZ of tensor(-55.0280)\n",
      "Marginal Expectation of State 13 2.0 with variance 0.0 1 samples with logZ of tensor(-55.0280)\n",
      "Marginal Expectation of State 14 2.0 with variance 0.0 1 samples with logZ of tensor(-55.0280)\n",
      "Marginal Expectation of State 15 1.0 with variance 0.0 1 samples with logZ of tensor(-55.0280)\n",
      "Marginal Expectation of State 16 2.0 with variance 0.0 1 samples with logZ of tensor(-55.0280)\n",
      "Marginal Expectation of State 17 2.0 with variance 0.0 1 samples with logZ of tensor(-55.0280)\n",
      "torch.Size([10, 17])\n",
      "[tensor(-55.0280), tensor(-46.4798), tensor(-44.4239), tensor(-44.4256), tensor(-44.4434), tensor(-44.4227)]\n",
      "Marginal Expectation of State 1 1.8 with variance 0.35999995 10 samples with logZ of tensor(-46.4798)\n",
      "Marginal Expectation of State 2 2.0 with variance 0.0 10 samples with logZ of tensor(-46.4798)\n",
      "Marginal Expectation of State 3 1.8 with variance 0.16 10 samples with logZ of tensor(-46.4798)\n",
      "Marginal Expectation of State 4 2.0 with variance 0.0 10 samples with logZ of tensor(-46.4798)\n",
      "Marginal Expectation of State 5 1.0 with variance 0.0 10 samples with logZ of tensor(-46.4798)\n",
      "Marginal Expectation of State 6 0.4 with variance 0.64 10 samples with logZ of tensor(-46.4798)\n",
      "Marginal Expectation of State 7 1.0 with variance 0.0 10 samples with logZ of tensor(-46.4798)\n",
      "Marginal Expectation of State 8 2.0 with variance 0.0 10 samples with logZ of tensor(-46.4798)\n",
      "Marginal Expectation of State 9 2.0 with variance 0.0 10 samples with logZ of tensor(-46.4798)\n",
      "Marginal Expectation of State 10 2.0 with variance 0.0 10 samples with logZ of tensor(-46.4798)\n",
      "Marginal Expectation of State 11 2.0 with variance 0.0 10 samples with logZ of tensor(-46.4798)\n",
      "Marginal Expectation of State 12 2.0 with variance 0.0 10 samples with logZ of tensor(-46.4798)\n",
      "Marginal Expectation of State 13 2.0 with variance 0.0 10 samples with logZ of tensor(-46.4798)\n",
      "Marginal Expectation of State 14 2.0 with variance 0.0 10 samples with logZ of tensor(-46.4798)\n",
      "Marginal Expectation of State 15 2.0 with variance 0.0 10 samples with logZ of tensor(-46.4798)\n",
      "Marginal Expectation of State 16 2.0 with variance 0.0 10 samples with logZ of tensor(-46.4798)\n",
      "Marginal Expectation of State 17 0.0 with variance 0.0 10 samples with logZ of tensor(-46.4798)\n",
      "torch.Size([100, 17])\n",
      "[tensor(-55.0280), tensor(-46.4798), tensor(-44.4239), tensor(-44.4256), tensor(-44.4434), tensor(-44.4227)]\n",
      "Marginal Expectation of State 1 1.34 with variance 0.78440005 100 samples with logZ of tensor(-44.4239)\n",
      "Marginal Expectation of State 2 1.86 with variance 0.24039999 100 samples with logZ of tensor(-44.4239)\n",
      "Marginal Expectation of State 3 1.68 with variance 0.3376 100 samples with logZ of tensor(-44.4239)\n",
      "Marginal Expectation of State 4 1.31 with variance 0.6938999 100 samples with logZ of tensor(-44.4239)\n",
      "Marginal Expectation of State 5 1.02 with variance 0.019599997 100 samples with logZ of tensor(-44.4239)\n",
      "Marginal Expectation of State 6 1.55 with variance 0.4875 100 samples with logZ of tensor(-44.4239)\n",
      "Marginal Expectation of State 7 1.81 with variance 0.33389995 100 samples with logZ of tensor(-44.4239)\n",
      "Marginal Expectation of State 8 1.77 with variance 0.19709998 100 samples with logZ of tensor(-44.4239)\n",
      "Marginal Expectation of State 9 1.48 with variance 0.56960005 100 samples with logZ of tensor(-44.4239)\n",
      "Marginal Expectation of State 10 1.12 with variance 0.96559995 100 samples with logZ of tensor(-44.4239)\n",
      "Marginal Expectation of State 11 0.0 with variance 0.0 100 samples with logZ of tensor(-44.4239)\n",
      "Marginal Expectation of State 12 1.7 with variance 0.24999999 100 samples with logZ of tensor(-44.4239)\n",
      "Marginal Expectation of State 13 1.75 with variance 0.1875 100 samples with logZ of tensor(-44.4239)\n",
      "Marginal Expectation of State 14 2.0 with variance 0.0 100 samples with logZ of tensor(-44.4239)\n",
      "Marginal Expectation of State 15 1.63 with variance 0.23309995 100 samples with logZ of tensor(-44.4239)\n",
      "Marginal Expectation of State 16 1.51 with variance 0.24989998 100 samples with logZ of tensor(-44.4239)\n",
      "Marginal Expectation of State 17 0.5 with variance 0.75 100 samples with logZ of tensor(-44.4239)\n",
      "torch.Size([1000, 17])\n",
      "[tensor(-55.0280), tensor(-46.4798), tensor(-44.4239), tensor(-44.4256), tensor(-44.4434), tensor(-44.4227)]\n",
      "Marginal Expectation of State 1 1.458 with variance 0.742236 1000 samples with logZ of tensor(-44.4256)\n",
      "Marginal Expectation of State 2 1.539 with variance 0.65647894 1000 samples with logZ of tensor(-44.4256)\n",
      "Marginal Expectation of State 3 1.706 with variance 0.30756396 1000 samples with logZ of tensor(-44.4256)\n",
      "Marginal Expectation of State 4 1.624 with variance 0.46462402 1000 samples with logZ of tensor(-44.4256)\n",
      "Marginal Expectation of State 5 1.019 with variance 0.018639004 1000 samples with logZ of tensor(-44.4256)\n",
      "Marginal Expectation of State 6 1.438 with variance 0.6481559 1000 samples with logZ of tensor(-44.4256)\n",
      "Marginal Expectation of State 7 1.696 with variance 0.34358397 1000 samples with logZ of tensor(-44.4256)\n",
      "Marginal Expectation of State 8 1.714 with variance 0.36420405 1000 samples with logZ of tensor(-44.4256)\n",
      "Marginal Expectation of State 9 1.537 with variance 0.514631 1000 samples with logZ of tensor(-44.4256)\n",
      "Marginal Expectation of State 10 1.156 with variance 0.91966397 1000 samples with logZ of tensor(-44.4256)\n",
      "Marginal Expectation of State 11 0.172 with variance 0.31441596 1000 samples with logZ of tensor(-44.4256)\n",
      "Marginal Expectation of State 12 1.825 with variance 0.24637496 1000 samples with logZ of tensor(-44.4256)\n",
      "Marginal Expectation of State 13 1.637 with variance 0.46923104 1000 samples with logZ of tensor(-44.4256)\n",
      "Marginal Expectation of State 14 1.683 with variance 0.35851103 1000 samples with logZ of tensor(-44.4256)\n",
      "Marginal Expectation of State 15 1.763 with variance 0.294831 1000 samples with logZ of tensor(-44.4256)\n",
      "Marginal Expectation of State 16 1.502 with variance 0.43599597 1000 samples with logZ of tensor(-44.4256)\n",
      "Marginal Expectation of State 17 1.091 with variance 0.7207189 1000 samples with logZ of tensor(-44.4256)\n",
      "torch.Size([10000, 17])\n",
      "[tensor(-55.0280), tensor(-46.4798), tensor(-44.4239), tensor(-44.4256), tensor(-44.4434), tensor(-44.4227)]\n",
      "Marginal Expectation of State 1 1.4377 with variance 0.74591863 10000 samples with logZ of tensor(-44.4434)\n",
      "Marginal Expectation of State 2 1.5607 with variance 0.6279155 10000 samples with logZ of tensor(-44.4434)\n",
      "Marginal Expectation of State 3 1.7116 with variance 0.32382548 10000 samples with logZ of tensor(-44.4434)\n",
      "Marginal Expectation of State 4 1.6224 with variance 0.45261827 10000 samples with logZ of tensor(-44.4434)\n",
      "Marginal Expectation of State 5 1.0172 with variance 0.016904157 10000 samples with logZ of tensor(-44.4434)\n",
      "Marginal Expectation of State 6 1.4402 with variance 0.58042395 10000 samples with logZ of tensor(-44.4434)\n",
      "Marginal Expectation of State 7 1.6389 with variance 0.44670674 10000 samples with logZ of tensor(-44.4434)\n",
      "Marginal Expectation of State 8 1.6844 with variance 0.40539664 10000 samples with logZ of tensor(-44.4434)\n"
     ]
    },
    {
     "name": "stdout",
     "output_type": "stream",
     "text": [
      "Marginal Expectation of State 9 1.5865 with variance 0.43811777 10000 samples with logZ of tensor(-44.4434)\n",
      "Marginal Expectation of State 10 1.0639 with variance 0.957217 10000 samples with logZ of tensor(-44.4434)\n",
      "Marginal Expectation of State 11 0.1566 with variance 0.28867647 10000 samples with logZ of tensor(-44.4434)\n",
      "Marginal Expectation of State 12 1.6528 with variance 0.41225216 10000 samples with logZ of tensor(-44.4434)\n",
      "Marginal Expectation of State 13 1.5767 with variance 0.53411716 10000 samples with logZ of tensor(-44.4434)\n",
      "Marginal Expectation of State 14 1.7065 with variance 0.28395775 10000 samples with logZ of tensor(-44.4434)\n",
      "Marginal Expectation of State 15 1.6976 with variance 0.27915424 10000 samples with logZ of tensor(-44.4434)\n",
      "Marginal Expectation of State 16 1.4889 with variance 0.31527683 10000 samples with logZ of tensor(-44.4434)\n",
      "Marginal Expectation of State 17 0.8542 with variance 0.68994236 10000 samples with logZ of tensor(-44.4434)\n",
      "torch.Size([100000, 17])\n",
      "[tensor(-55.0280), tensor(-46.4798), tensor(-44.4239), tensor(-44.4256), tensor(-44.4434), tensor(-44.4227)]\n",
      "Marginal Expectation of State 1 1.43459 with variance 0.7502816 100000 samples with logZ of tensor(-44.4227)\n",
      "Marginal Expectation of State 2 1.5398 with variance 0.65895593 100000 samples with logZ of tensor(-44.4227)\n",
      "Marginal Expectation of State 3 1.70435 with variance 0.3248611 100000 samples with logZ of tensor(-44.4227)\n",
      "Marginal Expectation of State 4 1.61322 with variance 0.4572412 100000 samples with logZ of tensor(-44.4227)\n",
      "Marginal Expectation of State 5 1.01602 with variance 0.015763363 100000 samples with logZ of tensor(-44.4227)\n",
      "Marginal Expectation of State 6 1.43096 with variance 0.59325343 100000 samples with logZ of tensor(-44.4227)\n",
      "Marginal Expectation of State 7 1.64038 with variance 0.43191344 100000 samples with logZ of tensor(-44.4227)\n",
      "Marginal Expectation of State 8 1.66043 with variance 0.4240222 100000 samples with logZ of tensor(-44.4227)\n",
      "Marginal Expectation of State 9 1.59021 with variance 0.43422216 100000 samples with logZ of tensor(-44.4227)\n",
      "Marginal Expectation of State 10 1.04591 with variance 0.95364237 100000 samples with logZ of tensor(-44.4227)\n",
      "Marginal Expectation of State 11 0.14018 with variance 0.26070958 100000 samples with logZ of tensor(-44.4227)\n",
      "Marginal Expectation of State 12 1.70564 with variance 0.33397222 100000 samples with logZ of tensor(-44.4227)\n",
      "Marginal Expectation of State 13 1.67773 with variance 0.42087203 100000 samples with logZ of tensor(-44.4227)\n",
      "Marginal Expectation of State 14 1.68733 with variance 0.29444754 100000 samples with logZ of tensor(-44.4227)\n",
      "Marginal Expectation of State 15 1.64863 with variance 0.32674912 100000 samples with logZ of tensor(-44.4227)\n",
      "Marginal Expectation of State 16 1.51998 with variance 0.33032075 100000 samples with logZ of tensor(-44.4227)\n",
      "Marginal Expectation of State 17 0.9301 with variance 0.692594 100000 samples with logZ of tensor(-44.4227)\n"
     ]
    },
    {
     "data": {
      "text/plain": [
       "<Figure size 432x288 with 0 Axes>"
      ]
     },
     "metadata": {},
     "output_type": "display_data"
    }
   ],
   "source": [
    "for j, n_sample in enumerate([1, 10, 100, 1000, 10000, 100000]):\n",
    "    with open(\"Daphne_program3_n_particles_\" + str(n_sample) + \"_values.pickle\", \"rb+\") as f:\n",
    "        values = pickle.load(f).float()\n",
    "        \n",
    "    with open('Daphne_program3_n_particles_100000logZ_values.pickle', 'rb+') as f:\n",
    "        logZs = pickle.load(f)\n",
    "\n",
    "    print(values.size())\n",
    "    print(logZs)\n",
    "        \n",
    "    # program 3\n",
    "    test_3_samples = torch.FloatTensor(values).numpy()\n",
    "\n",
    "    for i in range(17):\n",
    "        plt.hist(test_3_samples[:,i], density=True, bins=30)\n",
    "        plt.ylabel('Probability')\n",
    "        plt.xlabel('State ' + str(i+1))\n",
    "        plt.title('Program 3 - State ' + str(i+1) + ' Histogram')\n",
    "        plt.savefig(\"Program 3 - State \" + str(i+1) + \" Histogram\" + str(n_sample) + \".pdf\", bbox_inches='tight')\n",
    "        plt.clf()\n",
    "        print(\"Marginal Expectation of State \" + str(i+1), test_3_samples[:,i].mean(), \"with variance\", \n",
    "              test_3_samples[:,i].var(), n_sample, \"samples with logZ of\", logZs[j])"
   ]
  },
  {
   "cell_type": "code",
   "execution_count": 5,
   "metadata": {},
   "outputs": [
    {
     "name": "stdout",
     "output_type": "stream",
     "text": [
      "Marginal Expectation of Mu 2.9476964 with variance 0.0 at 1 samples with logZ of tensor(-18.0701)\n",
      "Marginal Expectation of Mu 3.0553305 with variance 0.00591184 at 10 samples with logZ of tensor(-18.7556)\n",
      "Marginal Expectation of Mu 5.7865844 with variance 0.07654191 at 100 samples with logZ of tensor(-9.9493)\n",
      "Marginal Expectation of Mu 7.4609942 with variance 0.73484194 at 1000 samples with logZ of tensor(-8.2452)\n",
      "Marginal Expectation of Mu 7.4091015 with variance 0.88055646 at 10000 samples with logZ of tensor(-8.2458)\n",
      "Marginal Expectation of Mu 7.1935086 with variance 0.81941736 at 100000 samples with logZ of tensor(-8.3113)\n"
     ]
    },
    {
     "data": {
      "text/plain": [
       "<Figure size 432x288 with 0 Axes>"
      ]
     },
     "metadata": {},
     "output_type": "display_data"
    }
   ],
   "source": [
    "for i, n_sample in enumerate([1, 10, 100, 1000, 10000, 100000]):\n",
    "    with open(\"Daphne_program4_n_particles_\" + str(n_sample) + \"_values.pickle\", \"rb+\") as f:\n",
    "        values = pickle.load(f).float()\n",
    "\n",
    "    with open('Daphne_program4_n_particles_100000logZ_values.pickle', 'rb+') as f:\n",
    "        logZs = pickle.load(f)\n",
    "        \n",
    "    # program 2\n",
    "    test_4_samples = torch.FloatTensor(values).numpy()\n",
    "\n",
    "    # slope\n",
    "    plt.hist(test_4_samples, density=True, bins=30)\n",
    "    plt.ylabel('Probability')\n",
    "    plt.xlabel('Mu')\n",
    "    plt.title('Program 4 - Mu Histogram')\n",
    "    plt.savefig(\"Program 4 - Mu Histogram\" + str(n_sample) + \".pdf\", bbox_inches='tight')\n",
    "    plt.clf()\n",
    "\n",
    "    print(\"Marginal Expectation of Mu\", test_4_samples.mean(), \"with variance\", test_4_samples.var(),\n",
    "          \"at\", n_sample, \"samples with logZ of\", logZs[i])"
   ]
  },
  {
   "cell_type": "code",
   "execution_count": null,
   "metadata": {},
   "outputs": [],
   "source": []
  }
 ],
 "metadata": {
  "kernelspec": {
   "display_name": "Python 3",
   "language": "python",
   "name": "python3"
  },
  "language_info": {
   "codemirror_mode": {
    "name": "ipython",
    "version": 3
   },
   "file_extension": ".py",
   "mimetype": "text/x-python",
   "name": "python",
   "nbconvert_exporter": "python",
   "pygments_lexer": "ipython3",
   "version": "3.7.6"
  }
 },
 "nbformat": 4,
 "nbformat_minor": 4
}
